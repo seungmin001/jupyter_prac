{
 "cells": [
  {
   "cell_type": "code",
   "execution_count": 2,
   "metadata": {},
   "outputs": [
    {
     "name": "stdout",
     "output_type": "stream",
     "text": [
      "1\n"
     ]
    }
   ],
   "source": [
    "def profit(price):\n",
    "    max_profit=0\n",
    "    min_price=price[0]\n",
    "    n=len(price)\n",
    "    for i in range(1,n):\n",
    "        if price[i]<min_price:\n",
    "            min_price=price[i]\n",
    "            continue\n",
    "        profit=price[i]-min_price\n",
    "        if profit>max_profit:\n",
    "            max_profit=profit\n",
    "    return max_profit\n",
    "\n",
    "def sprofit(price):\n",
    "    n=len(price)\n",
    "    max_profit=0\n",
    "    for i in range(n-1):\n",
    "        for j in range(i+1,n):\n",
    "            profit=price[j]-price[i]\n",
    "            if profit>max_profit:\n",
    "                max_profit=profit\n",
    "    return max_profit\n",
    "\n",
    "price=[10300, 9600, 9800, 8200, 7800, 8300, 9500, 9800, 10200, 9500]\n",
    "price=[1000,999,1000,1000,999]\n",
    "print(profit(price))"
   ]
  },
  {
   "cell_type": "code",
   "execution_count": 4,
   "metadata": {},
   "outputs": [
    {
     "name": "stdout",
     "output_type": "stream",
     "text": [
      "10000 3.33790 0.00103 3255.09\n",
      "\n"
     ]
    }
   ],
   "source": [
    "import random\n",
    "import time\n",
    "\n",
    "def test(n):\n",
    "    a=[]\n",
    "    for i in range(n):\n",
    "        a.append(random.randint(5000,20000))\n",
    "    \n",
    "    start=time.time()\n",
    "    slow=sprofit(a)\n",
    "    end=time.time()\n",
    "    time_slow=end-start\n",
    "    \n",
    "    \n",
    "    start=time.time()\n",
    "    fast=profit(a)\n",
    "    end=time.time()\n",
    "    time_fast=end-start\n",
    "    \n",
    "    m=0\n",
    "    if time_fast>0:\n",
    "        m=time_slow/time_fast\n",
    "    print(\"%d %.5f %.5f %.2f\\n\"%(n, time_slow, time_fast, m))\n",
    "\n",
    "test(10000)\n"
   ]
  },
  {
   "cell_type": "code",
   "execution_count": null,
   "metadata": {},
   "outputs": [],
   "source": []
  }
 ],
 "metadata": {
  "kernelspec": {
   "display_name": "Python 3",
   "language": "python",
   "name": "python3"
  },
  "language_info": {
   "codemirror_mode": {
    "name": "ipython",
    "version": 3
   },
   "file_extension": ".py",
   "mimetype": "text/x-python",
   "name": "python",
   "nbconvert_exporter": "python",
   "pygments_lexer": "ipython3",
   "version": "3.7.6"
  }
 },
 "nbformat": 4,
 "nbformat_minor": 4
}
