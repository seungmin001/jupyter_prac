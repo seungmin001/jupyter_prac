{
  "nbformat": 4,
  "nbformat_minor": 0,
  "metadata": {
    "colab": {
      "name": "텐서플로우실습_multilayer.ipynb",
      "provenance": []
    },
    "kernelspec": {
      "name": "python3",
      "display_name": "Python 3"
    }
  },
  "cells": [
    {
      "cell_type": "code",
      "metadata": {
        "id": "48g9BCqnU7tM"
      },
      "source": [
        "# 라이브러리 사용\n",
        "import pandas as pd\n",
        "import tensorflow as tf\n",
        "\n"
      ],
      "execution_count": null,
      "outputs": []
    },
    {
      "cell_type": "code",
      "metadata": {
        "id": "4yaoAVvaVFZx",
        "outputId": "89c2ef7c-7ff2-4db8-c45e-89f2b8182737",
        "colab": {
          "base_uri": "https://localhost:8080/",
          "height": 35
        }
      },
      "source": [
        "# 1. 과거의 데이터 준비\n",
        "path='https://raw.githubusercontent.com/blackdew/tensorflow1/master/csv/boston.csv'\n",
        "보스턴=pd.read_csv(path)\n",
        "\n",
        "# 독립 , 종속 분리\n",
        "독립=보스턴[['crim', 'zn', 'indus', 'chas', 'nox', 'rm', 'age', 'dis', 'rad', 'tax',\n",
        "       'ptratio', 'b', 'lstat']]\n",
        "종속=보스턴[['medv']]\n",
        "print(독립.shape, 종속.shape) # 확인 체크 잊지 말기! 버그 적게 할 수 있음"
      ],
      "execution_count": null,
      "outputs": [
        {
          "output_type": "stream",
          "text": [
            "(506, 13) (506, 1)\n"
          ],
          "name": "stdout"
        }
      ]
    },
    {
      "cell_type": "code",
      "metadata": {
        "id": "GAN0tckuVKTI"
      },
      "source": [
        "# 2. 모델의 구조 만들기\n",
        "X= tf.keras.layers.Input(shape=[13])\n",
        "H= tf.keras.layers.Dense(10, activation='swish')(X)\n",
        "Y=tf.keras.layers.Dense(1)(H)\n",
        "model=tf.keras.models.Model(X,Y)\n",
        "model.compile(loss='mse')"
      ],
      "execution_count": null,
      "outputs": []
    },
    {
      "cell_type": "code",
      "metadata": {
        "id": "Pmpfw7c4Wlgq",
        "outputId": "a456e7fa-3e5e-4025-d582-fe5187547054",
        "colab": {
          "base_uri": "https://localhost:8080/",
          "height": 269
        }
      },
      "source": [
        "model.summary() # 모델 모양 확인"
      ],
      "execution_count": null,
      "outputs": [
        {
          "output_type": "stream",
          "text": [
            "Model: \"functional_3\"\n",
            "_________________________________________________________________\n",
            "Layer (type)                 Output Shape              Param #   \n",
            "=================================================================\n",
            "input_2 (InputLayer)         [(None, 13)]              0         \n",
            "_________________________________________________________________\n",
            "dense_2 (Dense)              (None, 10)                140       \n",
            "_________________________________________________________________\n",
            "dense_3 (Dense)              (None, 1)                 11        \n",
            "=================================================================\n",
            "Total params: 151\n",
            "Trainable params: 151\n",
            "Non-trainable params: 0\n",
            "_________________________________________________________________\n"
          ],
          "name": "stdout"
        }
      ]
    },
    {
      "cell_type": "code",
      "metadata": {
        "id": "tfZPvnVDVcfG"
      },
      "source": [
        "# 3. 데이터로 모델을 학습(fit)\n",
        "#model.fit(독립, 종속, epochs=1000,verbose=0)\n",
        "model.fit(독립, 종속, epochs=100)"
      ],
      "execution_count": null,
      "outputs": []
    },
    {
      "cell_type": "code",
      "metadata": {
        "id": "NSFApSUNVfco",
        "outputId": "7185c17d-ccaf-4377-9769-08a7a0adfb38",
        "colab": {
          "base_uri": "https://localhost:8080/",
          "height": 215
        }
      },
      "source": [
        "# 4. 모델 이용\n",
        "print(model.predict(독립[:5])) # 0~5번째 까지 잘라서\n",
        "print(종속[:5])"
      ],
      "execution_count": null,
      "outputs": [
        {
          "output_type": "stream",
          "text": [
            "[[35.134735]\n",
            " [26.88185 ]\n",
            " [31.292688]\n",
            " [33.265766]\n",
            " [31.313534]]\n",
            "   medv\n",
            "0  24.0\n",
            "1  21.6\n",
            "2  34.7\n",
            "3  33.4\n",
            "4  36.2\n"
          ],
          "name": "stdout"
        }
      ]
    },
    {
      "cell_type": "code",
      "metadata": {
        "id": "GC-373hUZEq5"
      },
      "source": [
        "# 가중치 확인\n",
        "print(model.get_weights())"
      ],
      "execution_count": null,
      "outputs": []
    },
    {
      "cell_type": "markdown",
      "metadata": {
        "id": "GLOIEmt_X3dL"
      },
      "source": [
        "**아이리스 품종 분류**"
      ]
    },
    {
      "cell_type": "code",
      "metadata": {
        "id": "eVoy2QpjX5S9",
        "outputId": "95b7badd-0bc5-433a-d5ed-d829e0ee53cb",
        "colab": {
          "base_uri": "https://localhost:8080/",
          "height": 35
        }
      },
      "source": [
        "# 1. 과거 데이터\n",
        "path='https://raw.githubusercontent.com/blackdew/tensorflow1/master/csv/iris.csv'\n",
        "iris=pd.read_csv(path)\n",
        "\n",
        "# onehot encoding\n",
        "인코딩=pd.get_dummies(iris)\n",
        "\n",
        "# 독립, 종속\n",
        "독립= 인코딩[['꽃잎길이', '꽃잎폭', '꽃받침길이', '꽃받침폭']]\n",
        "종속= 인코딩[['품종_setosa', '품종_versicolor','품종_virginica']]\n",
        "print(독립.shape, 종속.shape)"
      ],
      "execution_count": null,
      "outputs": [
        {
          "output_type": "stream",
          "text": [
            "(150, 4) (150, 3)\n"
          ],
          "name": "stdout"
        }
      ]
    },
    {
      "cell_type": "code",
      "metadata": {
        "id": "bnqj8cnBYZeN"
      },
      "source": [
        "# 2. 모델의 구조 만들기\n",
        "X=tf.keras.layers.Input(shape=[4])\n",
        "H= tf.keras.layers.Dense(8, activation='swish')(X)  # 8개 노드를 가진 히든 레이어1\n",
        "H= tf.keras.layers.Dense(8, activation='swish')(H)  # 2\n",
        "H= tf.keras.layers.Dense(8, activation='swish')(H)  # 3\n",
        "Y=tf.keras.layers.Dense(3, activation='softmax')(H)\n",
        "model=tf.keras.models.Model(X,Y)\n",
        "model.compile(loss='categorical_crossentropy',metrics='accuracy')"
      ],
      "execution_count": null,
      "outputs": []
    },
    {
      "cell_type": "code",
      "metadata": {
        "id": "T9fBIl7faIKR",
        "outputId": "969608e7-192c-4e56-9b0d-db024f85abfc",
        "colab": {
          "base_uri": "https://localhost:8080/",
          "height": 359
        }
      },
      "source": [
        "print(model.summary())"
      ],
      "execution_count": null,
      "outputs": [
        {
          "output_type": "stream",
          "text": [
            "Model: \"functional_5\"\n",
            "_________________________________________________________________\n",
            "Layer (type)                 Output Shape              Param #   \n",
            "=================================================================\n",
            "input_3 (InputLayer)         [(None, 4)]               0         \n",
            "_________________________________________________________________\n",
            "dense_4 (Dense)              (None, 8)                 40        \n",
            "_________________________________________________________________\n",
            "dense_5 (Dense)              (None, 8)                 72        \n",
            "_________________________________________________________________\n",
            "dense_6 (Dense)              (None, 8)                 72        \n",
            "_________________________________________________________________\n",
            "dense_7 (Dense)              (None, 3)                 27        \n",
            "=================================================================\n",
            "Total params: 211\n",
            "Trainable params: 211\n",
            "Non-trainable params: 0\n",
            "_________________________________________________________________\n",
            "None\n"
          ],
          "name": "stdout"
        }
      ]
    },
    {
      "cell_type": "code",
      "metadata": {
        "id": "oqmPpWlHZAVB"
      },
      "source": [
        "# FIT\n",
        "model.fit(독립, 종속, epochs=100)"
      ],
      "execution_count": null,
      "outputs": []
    },
    {
      "cell_type": "code",
      "metadata": {
        "id": "jzP9DxAEZCYw",
        "outputId": "0de5bb9b-c15b-49c2-8fff-d35a23b6ba9e",
        "colab": {
          "base_uri": "https://localhost:8080/",
          "height": 215
        }
      },
      "source": [
        "# model이용\n",
        "print(model.predict(독립[:5]))\n",
        "print(종속[:5])"
      ],
      "execution_count": null,
      "outputs": [
        {
          "output_type": "stream",
          "text": [
            "[[9.8312873e-01 1.6746812e-02 1.2443481e-04]\n",
            " [9.7811478e-01 2.1676503e-02 2.0867979e-04]\n",
            " [9.8173308e-01 1.8092144e-02 1.7474081e-04]\n",
            " [9.7548103e-01 2.4277532e-02 2.4139771e-04]\n",
            " [9.8365223e-01 1.6228242e-02 1.1953631e-04]]\n",
            "   품종_setosa  품종_versicolor  품종_virginica\n",
            "0          1              0             0\n",
            "1          1              0             0\n",
            "2          1              0             0\n",
            "3          1              0             0\n",
            "4          1              0             0\n"
          ],
          "name": "stdout"
        }
      ]
    },
    {
      "cell_type": "code",
      "metadata": {
        "id": "l_mGhSguZL7K",
        "outputId": "ca07c4fb-8b2f-4980-978d-8c7b96da26ed",
        "colab": {
          "base_uri": "https://localhost:8080/",
          "height": 901
        }
      },
      "source": [
        "# 가중치 확인\n",
        "print(model.get_weights())"
      ],
      "execution_count": null,
      "outputs": [
        {
          "output_type": "stream",
          "text": [
            "[array([[ 0.1508997 , -0.07835476,  0.12694658, -0.7474563 ,  0.9534981 ,\n",
            "        -0.0194805 ,  0.091174  , -0.6120778 ],\n",
            "       [-0.14905417, -0.26583275, -0.7025895 , -0.24241817,  0.93840694,\n",
            "         0.03422035, -0.1121344 ,  0.4829096 ],\n",
            "       [-0.4658035 , -0.1485795 , -0.5200598 ,  0.5612058 ,  0.46729657,\n",
            "        -0.5140194 ,  0.8884368 ,  0.13919497],\n",
            "       [-0.9123818 , -0.5636109 , -0.42745966,  0.34894034,  0.21561834,\n",
            "        -0.22418757,  0.5357497 , -0.68436366]], dtype=float32), array([ 0.14370641,  0.38342464, -0.15710273, -0.33341956,  0.28000376,\n",
            "        0.18709947, -0.27946573,  0.20016195], dtype=float32), array([[ 0.05268998, -0.7474117 ,  0.15972424,  0.82672215, -0.8636974 ,\n",
            "         0.18125509, -0.40384212, -0.9188177 ],\n",
            "       [-0.49772325, -0.5687169 , -0.51907885,  0.5702836 , -0.31698298,\n",
            "        -0.13016923,  0.03165143, -0.45117268],\n",
            "       [-0.072107  , -0.15031742, -0.61246455,  0.21221215,  0.20460165,\n",
            "         0.2195356 ,  0.44648278, -0.73503757],\n",
            "       [-0.3896815 ,  0.51241916,  0.47504014, -0.63220805,  0.34293184,\n",
            "         0.08371145, -0.3396123 ,  0.23198956],\n",
            "       [-0.04597511,  0.28696236,  0.13451475,  0.6082077 , -0.15861313,\n",
            "        -0.01786855, -0.31703252, -0.25383666],\n",
            "       [-0.8059951 , -0.8635642 , -0.03793843,  0.7738509 , -0.6670413 ,\n",
            "        -0.78647804,  0.32642245,  0.15137646],\n",
            "       [ 0.279554  , -0.43892172, -0.76220536,  0.73955184, -0.21685389,\n",
            "         0.5858313 , -0.01161565, -0.2372103 ],\n",
            "       [-0.19484477, -1.0238118 , -0.03412717,  0.47415346, -0.32811433,\n",
            "        -0.19468981,  0.41227382, -0.04074913]], dtype=float32), array([ 0.07455798,  0.32405502, -0.00271758, -0.18225944,  0.01343131,\n",
            "        0.20857066, -0.09176808,  0.2998872 ], dtype=float32), array([[-0.30850413, -0.65352017,  0.2773548 , -0.60482496,  0.22214575,\n",
            "         0.2419643 ,  0.4869046 , -0.49741024],\n",
            "       [-1.0456618 ,  1.0127202 ,  0.11185919, -0.2717838 , -0.42843002,\n",
            "        -0.09243055,  0.37527558,  0.5108923 ],\n",
            "       [ 0.6476194 , -0.13896923, -0.20103648,  0.29327527, -0.7323798 ,\n",
            "         0.3817255 , -0.9638335 ,  0.33059382],\n",
            "       [ 0.654723  ,  0.0874843 , -0.3393271 , -0.34646648,  0.24109371,\n",
            "        -0.528618  ,  0.27073264, -0.40033045],\n",
            "       [ 0.81117135, -1.0231612 , -0.7016903 ,  0.14314294,  0.22540525,\n",
            "        -0.6276544 , -0.669417  ,  0.2917306 ],\n",
            "       [ 0.17526343, -0.24762604,  0.00932592,  0.3314289 ,  0.4175538 ,\n",
            "         0.00799583,  0.27413896,  0.3488935 ],\n",
            "       [ 0.19388407,  0.09884293, -0.7778101 ,  0.79032475, -0.73231024,\n",
            "         0.163159  , -0.44413212,  0.45177484],\n",
            "       [-0.04939675, -0.7814338 , -0.9617456 , -0.65756196, -0.13739134,\n",
            "        -0.4981708 , -0.25789836, -0.12038215]], dtype=float32), array([-0.23273854,  0.34280694,  0.1977804 , -0.21939632,  0.19277403,\n",
            "        0.15378153,  0.22412762, -0.17314333], dtype=float32), array([[-0.9778961 , -0.16754301,  0.8135756 ],\n",
            "       [ 1.168309  ,  0.14326027, -0.7179773 ],\n",
            "       [ 0.1122295 , -0.3270257 ,  0.8392157 ],\n",
            "       [-0.77362114,  0.3403854 , -0.15397303],\n",
            "       [-0.8236816 ,  0.27257183, -0.04516524],\n",
            "       [-1.002247  ,  0.29034385,  0.27231097],\n",
            "       [-0.02750481,  0.22574487, -0.05772024],\n",
            "       [ 0.09281336,  0.5251743 ,  1.0429859 ]], dtype=float32), array([ 0.24835154,  0.06274293, -0.23495442], dtype=float32)]\n"
          ],
          "name": "stdout"
        }
      ]
    }
  ]
}