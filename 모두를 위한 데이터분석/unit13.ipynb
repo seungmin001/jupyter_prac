{
 "cells": [
  {
   "cell_type": "code",
   "execution_count": 1,
   "metadata": {},
   "outputs": [
    {
     "data": {
      "image/png": "[encoded data removed]",
      "text/plain": [
       "<Figure size 432x288 with 1 Axes>"
      ]
     },
     "metadata": {
      "needs_background": "light"
     },
     "output_type": "display_data"
    }
   ],
   "source": [
    "#numpy 사용 예제\n",
    "import matplotlib.pyplot as plt\n",
    "import numpy as np\n",
    "\n",
    "# evenly sampled time at 200ms intervals\n",
    "t = np.arange(0., 5., 0.2)\n",
    "\n",
    "# red dashes, blue squares and green triangles\n",
    "plt.plot(t, t, 'r--', t, t**2, 'bs', t, t**3, 'g^')\n",
    "plt.show()\n",
    "\n",
    "#아래코드는 위 코드와 동일하다(list이용)\n",
    "# import matplotlib.pyplot as plt\n",
    "# t = []\n",
    "# p2 = []\n",
    "# p3 = []\n",
    "# for i in range(0, 50, 2) :\n",
    "#     t.append(i / 10)\n",
    "#     p2.append((i / 10) ** 2)\n",
    "#     p3.append((i / 10) ** 3)\n",
    "# plt.plot(t, t, 'r--', t, p2, 'bs', t, p3, 'g^')\n",
    "# plt.show()"
   ]
  },
  {
   "cell_type": "code",
   "execution_count": 10,
   "metadata": {},
   "outputs": [
    {
     "name": "stdout",
     "output_type": "stream",
     "text": [
      "1.4142135623730951\n",
      "3.141592653589793\n",
      "0.0\n",
      "-1.0 \n",
      "\n",
      "[0.67064116 0.48931421 0.61162862 0.00709988 0.49840205]\n",
      "<class 'numpy.ndarray'> \n",
      "\n",
      "[0 0 0 4 1 0 3 0 2 2]\n",
      "[3 2 7 5 1 9]\n",
      "[2 5 2 3 1 5 2 3 3 1]\n"
     ]
    }
   ],
   "source": [
    "import numpy as np\n",
    "print(np.sqrt(2))\n",
    "print(np.pi)\n",
    "print(np.sin(0))\n",
    "print(np.cos(np.pi),\"\\n\")\n",
    "\n",
    "a=np.random.rand(5)\n",
    "print(a)\n",
    "print(type(a),'\\n') #ndarray nd=N-Dimensional,n차원 배열\n",
    "\n",
    "print(np.random.choice(6,10)) #0~5 사이의 숫자 10번 뽑기\n",
    "print(np.random.choice(10,6,replace=False)) #중복 false\n",
    "print(np.random.choice(6, 10, p=[0.1, 0.2, 0.3, 0.2, 0.1, 0.1])) #확률 지정 0 1 2 3 4 5"
   ]
  },
  {
   "cell_type": "code",
   "execution_count": null,
   "metadata": {},
   "outputs": [],
   "source": []
  }
 ],
 "metadata": {
  "kernelspec": {
   "display_name": "Python 3",
   "language": "python",
   "name": "python3"
  },
  "language_info": {
   "codemirror_mode": {
    "name": "ipython",
    "version": 3
   },
   "file_extension": ".py",
   "mimetype": "text/x-python",
   "name": "python",
   "nbconvert_exporter": "python",
   "pygments_lexer": "ipython3",
   "version": "3.7.6"
  }
 },
 "nbformat": 4,
 "nbformat_minor": 4
}
