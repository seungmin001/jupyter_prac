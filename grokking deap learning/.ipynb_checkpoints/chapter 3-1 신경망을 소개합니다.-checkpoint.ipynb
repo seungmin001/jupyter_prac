{
 "cells": [
  {
   "cell_type": "code",
   "execution_count": 2,
   "metadata": {},
   "outputs": [
    {
     "name": "stdout",
     "output_type": "stream",
     "text": [
      "0.8500000000000001\n"
     ]
    }
   ],
   "source": [
    "# 신경망 : input(정보) weight(지식, sensitivity, volume dial) > 출력:prediction\n",
    "# 첫 신경망\n",
    "weight=0.1 # 가중치\n",
    "\n",
    "def neural_network(input, weight):\n",
    "    prediction= input * weight\n",
    "    return prediction\n",
    "\n",
    "# 뭔가를 예측(predict) 하기 위해 신경망 사용\n",
    "\n",
    "number_of_toes = [8.5, 9.5, 10 ,9]\n",
    "input=number_of_toes[0]\n",
    "\n",
    "pred=neural_network(input, weight)\n",
    "print(pred)"
   ]
  },
  {
   "cell_type": "code",
   "execution_count": 4,
   "metadata": {},
   "outputs": [
    {
     "name": "stdout",
     "output_type": "stream",
     "text": [
      "0.9800000000000001\n"
     ]
    }
   ],
   "source": [
    "# 복수 데이터 요소 입력\n",
    "# 복수 입력을 받는 신경망\n",
    "weight= [0.1, 0.2, 0]git \n",
    "\n",
    "def neural_network(input, weight):\n",
    "    prediction= w_sum(input, weight)\n",
    "    return prediction\n",
    "\n",
    "# 복수 입력에 대해 Weighted Sum 구하기\n",
    "def w_sum(a,b):\n",
    "    assert(len(a) == len(b))\n",
    "    output=0\n",
    "    \n",
    "    for i in range(len(a)):\n",
    "        output+= (a[i]*b[i])\n",
    "    \n",
    "    return output\n",
    "\n",
    "# 입력 데이터 요소 집어넣기\n",
    "toe=[8.5, 9.5, 10 ,9] # 발가락 개수\n",
    "wlrec=[0.65, 0.8, 0.8, 0.9] # 이긴 게임 수 (퍼센트)\n",
    "nfans=[1.2, 1.3, 0.5, 1.0] # 관중 수 (milions)\n",
    "\n",
    "input=[toe[0], wlrec[0], nfans[0]] # 시즌 첫 경기 data\n",
    "\n",
    "pred=neural_network(input, weight)\n",
    "\n",
    "print(pred)"
   ]
  },
  {
   "cell_type": "code",
   "execution_count": 1,
   "metadata": {},
   "outputs": [
    {
     "name": "stdout",
     "output_type": "stream",
     "text": [
      "<class 'numpy.float64'>\n",
      "0.9800000000000001\n"
     ]
    }
   ],
   "source": [
    "# 복수 입력 \n",
    "# numpy를 활용한 코드(dot)\n",
    "import numpy as np\n",
    "\n",
    "weights=np.array([0.1,0.2,0])\n",
    "\n",
    "toes=np.array([8.5,9.5,9.9,9.0])\n",
    "wlrec=np.array([0.65,0.8,0.8,0.9])\n",
    "nfans=np.array([1.2,1.3,0.5,1.0])\n",
    "\n",
    "input=np.array([toes[0],wlrec[0],nfans[0]])\n",
    "\n",
    "def neural_network(input,weights):\n",
    "    pred=input.dot(weights)\n",
    "    print(type(pred))\n",
    "    return pred\n",
    "\n",
    "pred=neural_network(input,weights)\n",
    "print(pred)"
   ]
  },
  {
   "cell_type": "code",
   "execution_count": 4,
   "metadata": {},
   "outputs": [
    {
     "name": "stdout",
     "output_type": "stream",
     "text": [
      "<class 'list'>\n",
      "[0.195, 0.13, 0.5850000000000001]\n"
     ]
    }
   ],
   "source": [
    "# 복수 출력 plural output (입력 1 singular input)\n",
    "# 승패확률 -> [부상확률, 승리확률, 슬픔확률]\n",
    "weights=[0.3,0.2,0.9]\n",
    "\n",
    "wlrec=[0.65, 0.8, 0.8, 0.9]\n",
    "input=wlrec[0]\n",
    "\n",
    "def ele_mul(number, vector):\n",
    "    output=[0,0,0]\n",
    "    assert(len(output)==len(vector))\n",
    "    \n",
    "    for i in range(len(vector)):\n",
    "        output[i]=number*vector[i]\n",
    "    \n",
    "    return output\n",
    "\n",
    "def neural_network(input, weights):\n",
    "    pred=ele_mul(input, weights)\n",
    "    print(type(pred))\n",
    "    return pred\n",
    "\n",
    "pred=neural_network(input, weights)\n",
    "print(pred)"
   ]
  },
  {
   "cell_type": "code",
   "execution_count": 5,
   "metadata": {},
   "outputs": [
    {
     "name": "stdout",
     "output_type": "stream",
     "text": [
      "[0.555, 0.9800000000000001, 0.9650000000000001]\n"
     ]
    }
   ],
   "source": [
    "# plural input, output\n",
    "# input: 발가락 개수, 승률, 관중 수 가중치\n",
    "# output: 부상, 승리, 슬픔\n",
    "weights=[ [0.1, 0.1, -0.3], # 각 input의 부상에 대한 가중치\n",
    "            [0.1, 0.2, 0.0],\n",
    "            [0.0, 1.3, 0.1]]\n",
    "\n",
    "toes=[8.5, 9.5, 9.9, 9.0]\n",
    "wlrec=[0.65, 0.8, 0.8, 0.9]\n",
    "nfans=[1.2, 1.3, 0.5, 1.0]\n",
    "\n",
    "input=[toes[0], wlrec[0], nfans[0]]\n",
    "\n",
    "#각 출력에 대해 복수 입력의 가중합 계산\n",
    "def w_sum(a,b):\n",
    "    assert(len(a)==len(b))\n",
    "    output=0\n",
    "    \n",
    "    for i in range(len(a)):\n",
    "        output+=a[i]*b[i]\n",
    "    \n",
    "    return output\n",
    "\n",
    "def vect_mat_mul(vect,matrix):\n",
    "    assert(len(vect)==len(matrix))\n",
    "    output=[0,0,0]\n",
    "    # 첫 번째 output= (입력, 첫번째 output의 weight) 가중합\n",
    "    for i in range(len(vect)):\n",
    "        output[i]=w_sum(vect,matrix[i])\n",
    "        \n",
    "    return output\n",
    "\n",
    "def neural_network(input, weights):\n",
    "    pred=vect_mat_mul(input, weights)\n",
    "    return pred\n",
    "\n",
    "pred=neural_network(input, weights)\n",
    "print(pred)"
   ]
  },
  {
   "cell_type": "code",
   "execution_count": 9,
   "metadata": {},
   "outputs": [
    {
     "name": "stdout",
     "output_type": "stream",
     "text": [
      "[0.21350000000000002, 0.14500000000000002, 0.5065]\n"
     ]
    }
   ],
   "source": [
    "# using hidden layer\n",
    "\n",
    "# 공통 함수 duplicate function\n",
    "def w_sum(a,b):\n",
    "    assert(len(a)==len(b))\n",
    "    output=0\n",
    "    \n",
    "    for i in range(len(a)):\n",
    "        output+=a[i]*b[i]\n",
    "    \n",
    "    return output\n",
    "\n",
    "def vect_mat_mul(vect,matrix):\n",
    "    assert(len(vect)==len(matrix))\n",
    "    output=[0,0,0]\n",
    "    # 첫 번째 output= (입력, 첫번째 output의 weight) 가중합\n",
    "    for i in range(len(vect)):\n",
    "        output[i]=w_sum(vect,matrix[i])\n",
    "        \n",
    "    return output\n",
    "\n",
    "# 발가락, 승률, 관중\n",
    "ih_wgt=[ [0.1, 0.2, -0.1], #hid 0 가중치\n",
    "            [-0.1, 0.1, 0.9],#hid 1\n",
    "            [0.1, 0.4, 0.1]]#hid 2\n",
    "#hid[0] hid[1] hid[2]\n",
    "hp_wgt=[ [0.3, 1.1, -0.3], #부상 가중치\n",
    "            [0.1, 0.2, 0.0],#승리\n",
    "            [0.0, 1.3, 0.1]] #슬픔\n",
    "\n",
    "weights=[ih_wgt, hp_wgt]\n",
    "\n",
    "#input data\n",
    "toes=[8.5, 9.5, 9.9, 9.0]\n",
    "wlrec=[0.65, 0.8, 0.8, 0.9]\n",
    "nfans=[1.2, 1.3, 0.5, 1.0]\n",
    "\n",
    "input=[toes[0], wlrec[0], nfans[0]]\n",
    "\n",
    "\n",
    "def neural_network(input, weights):\n",
    "    hid=vect_mat_mul(input,weights[0])\n",
    "    pred=vect_mat_mul(hid, weights[1])\n",
    "    return pred\n",
    "\n",
    "pred=neural_network(input, weights)\n",
    "print(pred)"
   ]
  },
  {
   "cell_type": "code",
   "execution_count": 2,
   "metadata": {},
   "outputs": [
    {
     "name": "stdout",
     "output_type": "stream",
     "text": [
      "[0.2135 0.145  0.5065]\n"
     ]
    }
   ],
   "source": [
    "# using hidden layer\n",
    "# using numpy\n",
    "\n",
    "import numpy as np\n",
    "\n",
    "# 각 weight를 열벡터로 사용해서 내적. (벡터 * 행렬 곱 vector-matrix multiplication)\n",
    "# 발가락, 승률, 관중\n",
    "ih_wgt=np.array( [[0.1, 0.2, -0.1],#hid 0 가중치\n",
    "            [-0.1, 0.1, 0.9],  #hid 1\n",
    "            [0.1, 0.4, 0.1]]).T #hid 2\n",
    "\n",
    "#hid[0] hid[1] hid[2]\n",
    "hp_wgt= np.array([[0.3, 1.1, -0.3],#부상 가중치\n",
    "            [0.1, 0.2, 0.0],   #승리\n",
    "            [0.0, 1.3, 0.1]]).T #슬픔\n",
    "\n",
    "weights=np.array([ih_wgt, hp_wgt])\n",
    "\n",
    "#input data\n",
    "toes=np.array([8.5, 9.5, 9.9, 9.0])\n",
    "wlrec=np.array([0.65, 0.8, 0.8, 0.9])\n",
    "nfans=np.array([1.2, 1.3, 0.5, 1.0])\n",
    "\n",
    "input=np.array([toes[0], wlrec[0], nfans[0]])\n",
    "\n",
    "def neural_network(input, weights):\n",
    "    hid=input.dot(weights[0])\n",
    "    pred=hid.dot(weights[1])\n",
    "    return pred\n",
    "\n",
    "pred=neural_network(input, weights)\n",
    "print(pred)"
   ]
  },
  {
   "cell_type": "code",
   "execution_count": 2,
   "metadata": {},
   "outputs": [
    {
     "name": "stdout",
     "output_type": "stream",
     "text": [
      "3장에서 한 것 : 순전파 forward propagation - 활성화activations가 앞으로 전달됨.\n",
      "입력층에서 출력층 방향으로 연산이 전개되는 신경망\n",
      "activations : 가중치를 제외, 모든 예측에 대해 고유한 숫자\n"
     ]
    }
   ],
   "source": [
    "print('3장에서 한 것 : 순전파 forward propagation - 활성화activations가 앞으로 전달됨.')\n",
    "print('입력층에서 출력층 방향으로 연산이 전개되는 신경망')\n",
    "print('activations : 가중치를 제외, 모든 예측에 대해 고유한 숫자')"
   ]
  }
 ],
 "metadata": {
  "kernelspec": {
   "display_name": "Python 3",
   "language": "python",
   "name": "python3"
  },
  "language_info": {
   "codemirror_mode": {
    "name": "ipython",
    "version": 3
   },
   "file_extension": ".py",
   "mimetype": "text/x-python",
   "name": "python",
   "nbconvert_exporter": "python",
   "pygments_lexer": "ipython3",
   "version": "3.7.6"
  }
 },
 "nbformat": 4,
 "nbformat_minor": 4
}
