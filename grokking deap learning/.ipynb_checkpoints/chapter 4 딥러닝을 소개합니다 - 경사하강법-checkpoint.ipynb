{
 "cells": [
  {
   "cell_type": "code",
   "execution_count": 1,
   "metadata": {},
   "outputs": [],
   "source": [
    "# 가중치 조절 (비교, 학습)\n",
    "\n",
    "# 비교 : 평균제곱오차 Mean Squared Error 사용.\n",
    "# 학습 : error attribution 밝혀내기 - 경사하강법 gradient descent : 오차를 줄이려면 가중치를 어떻게 조정해야 할 지 알려줌"
   ]
  },
  {
   "cell_type": "code",
   "execution_count": 3,
   "metadata": {},
   "outputs": [
    {
     "name": "stdout",
     "output_type": "stream",
     "text": [
      "0.30250000000000005\n"
     ]
    }
   ],
   "source": [
    "# 비교 : 여러분의 신경망은 예측을 잘하고 있습니까?\n",
    "\n",
    "knob_weight=0.5\n",
    "input = 0.5\n",
    "goal_pred=0.8\n",
    "\n",
    "pred=input* knob_weight\n",
    "\n",
    "error= (pred - goal_pred) **2 # error is always positive\n",
    "\n",
    "print(error)\n",
    "\n",
    "# 오차를 0으로 만들기\n",
    "# 평균 제곱 오차 사용 이유 : 오차 우선순위 결정 (큰 오차는 더 커지고-더 중요하게 처리 작은 오차는 더 작아짐)\n",
    "# 양수인 오차만 사용 이유 : 오차를 평균 낼 때 오차값이 상쇄되지 않게 하기 위해서"
   ]
  },
  {
   "cell_type": "code",
   "execution_count": 1,
   "metadata": {},
   "outputs": [
    {
     "name": "stdout",
     "output_type": "stream",
     "text": [
      "0.022499999999999975\n"
     ]
    }
   ],
   "source": [
    "# 온냉 요법으로 학습하기 Hot and cold learning\n",
    "# 오차를 줄이기 위해 가중치를 올려야 할까 내려야 할까? 어느 쪽이 오차를 줄이는 지 둘 다 해본다!\n",
    "# 가중치를 좌우로 흔들어서 가장 오차를 많이 줄이는 방향으로 가중치를 이동시키고, 오차가 0으로 수렴할 때 까지 반복\n",
    "\n",
    "weight=0.1\n",
    "lr=0.01\n",
    "\n",
    "def neural_network(input, weight):\n",
    "    prediction=input*weight\n",
    "    return prediction\n",
    "\n",
    "number_of_toes=[8.5]\n",
    "win_or_lose_binary= [1] # (won!!!)\n",
    "input=number_of_toes[0]\n",
    "true=win_or_lose_binary[0]\n",
    "pred=neural_network(input,weight)\n",
    "error=(pred - true) ** 2 # 평균 제곱 오차\n",
    "\n",
    "print(error)\n"
   ]
  },
  {
   "cell_type": "code",
   "execution_count": null,
   "metadata": {},
   "outputs": [],
   "source": []
  }
 ],
 "metadata": {
  "kernelspec": {
   "display_name": "Python 3",
   "language": "python",
   "name": "python3"
  },
  "language_info": {
   "codemirror_mode": {
    "name": "ipython",
    "version": 3
   },
   "file_extension": ".py",
   "mimetype": "text/x-python",
   "name": "python",
   "nbconvert_exporter": "python",
   "pygments_lexer": "ipython3",
   "version": "3.8.5"
  }
 },
 "nbformat": 4,
 "nbformat_minor": 4
}
