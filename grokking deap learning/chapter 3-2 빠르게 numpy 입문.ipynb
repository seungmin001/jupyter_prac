{
 "cells": [
  {
   "cell_type": "code",
   "execution_count": 5,
   "metadata": {},
   "outputs": [
    {
     "name": "stdout",
     "output_type": "stream",
     "text": [
      "[0 1 2 3]\n",
      "[4 5 6 7]\n",
      "[[0 1 2 3]\n",
      " [4 5 6 7]]\n",
      "[[0. 0. 0. 0.]\n",
      " [0. 0. 0. 0.]]\n",
      "[[0.20957508 0.82628999 0.2034137  0.2995852  0.57746968]\n",
      " [0.20483578 0.5555715  0.90793172 0.08337575 0.04886199]]\n",
      "연산 calculation\n",
      "numpy : 연산자를 만나면 변수를 자동 형식 추론해 알맞은 연산 수행 \n",
      "따라서 numpy코드를 읽을 때 변수의 shape를 유의해야한다.\n",
      "요소별 연산 : 두 변수의 열의 개수가 같음, 혹은 한 변수의 열이 1개(scalar)\n",
      "[0.  0.1 0.2 0.3]\n",
      "[ 0  5 12 21]\n",
      "[[ 0  1  4  9]\n",
      " [ 0  5 12 21]]\n"
     ]
    }
   ],
   "source": [
    "import numpy as np\n",
    "\n",
    "a=np.array([0,1,2,3]) #벡터(행 1인 행렬)\n",
    "b=np.array([4,5,6,7])\n",
    "c=np.array([[0,1,2,3],\n",
    "           [4,5,6,7]]) #행렬 ( [ [],[] ] )\n",
    "d=np.zeros((2,4)) #(tuple of ints)\n",
    "e=np.random.rand(2,5)\n",
    "\n",
    "print(a)\n",
    "print(b)\n",
    "print(c)\n",
    "print(d)\n",
    "print(e)\n",
    "\n",
    "print('연산 calculation')\n",
    "print('numpy : 연산자를 만나면 변수를 자동 형식 추론해 알맞은 연산 수행 ')\n",
    "print('따라서 numpy코드를 읽을 때 변수의 shape를 유의해야한다.')\n",
    "print('요소별 연산 : 두 변수의 열의 개수가 같음, 혹은 한 변수의 열이 1개(scalar)')\n",
    "print(a * 0.1) # 모든 수 0.1곱\n",
    "print(a * b) # 열끼리 짝지어서 요소별 곱\n",
    "print(a * c) # c의 모든 행에 대해 열끼리 요소별 곱\n",
    "# print(a * e) # 열 개수 불일치 에러\n"
   ]
  },
  {
   "cell_type": "code",
   "execution_count": 6,
   "metadata": {},
   "outputs": [
    {
     "name": "stdout",
     "output_type": "stream",
     "text": [
      "행렬 곱,내적 matrix multiplication\n",
      "(a,b).dot(b,c)=(a,c) 앞쪽 열의개수=뒤쪽 행의 개수\n",
      "(1, 3)\n",
      "(2, 3)\n",
      "(2, 3)\n",
      "(4, 6)\n"
     ]
    }
   ],
   "source": [
    "\n",
    "print('행렬 곱,내적 matrix multiplication')\n",
    "print('(a,b).dot(b,c)=(a,c) 앞쪽 열의개수=뒤쪽 행의 개수')\n",
    "a=np.zeros((1,4))\n",
    "b=np.zeros((4,3))\n",
    "c=a.dot(b)\n",
    "print(c.shape)\n",
    "\n",
    "a=np.zeros((2,4))\n",
    "b=np.zeros((4,3))\n",
    "c=a.dot(b)\n",
    "print(c.shape)\n",
    "\n",
    "e=np.zeros((2,1))\n",
    "f=np.zeros((1,3))\n",
    "g=e.dot(f)\n",
    "print(g.shape)\n",
    "\n",
    "h=np.zeros((5,4)).T #.T flips the rows and columns of a matrix\n",
    "i=np.zeros((5,6))\n",
    "j=h.dot(i)\n",
    "print(j.shape)\n",
    "\n",
    "h=np.zeros((5,4))\n",
    "i=np.zeros((5,6))\n",
    "#j=h.dot(i) # rule에 맞지 않아 에러를 던짐\n",
    "#print(j.shape)"
   ]
  }
 ],
 "metadata": {
  "kernelspec": {
   "display_name": "Python 3",
   "language": "python",
   "name": "python3"
  },
  "language_info": {
   "codemirror_mode": {
    "name": "ipython",
    "version": 3
   },
   "file_extension": ".py",
   "mimetype": "text/x-python",
   "name": "python",
   "nbconvert_exporter": "python",
   "pygments_lexer": "ipython3",
   "version": "3.7.6"
  }
 },
 "nbformat": 4,
 "nbformat_minor": 4
}
