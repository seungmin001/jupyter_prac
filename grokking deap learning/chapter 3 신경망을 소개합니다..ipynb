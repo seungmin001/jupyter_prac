{
 "cells": [
  {
   "cell_type": "code",
   "execution_count": 2,
   "metadata": {},
   "outputs": [
    {
     "name": "stdout",
     "output_type": "stream",
     "text": [
      "0.8500000000000001\n"
     ]
    }
   ],
   "source": [
    "# 신경망 : input(정보) weight(지식, sensitivity, volume dial) > 출력:prediction\n",
    "# 첫 신경망\n",
    "weight=0.1 # 가중치\n",
    "\n",
    "def neural_network(input, weight):\n",
    "    prediction= input * weight\n",
    "    return prediction\n",
    "\n",
    "# 뭔가를 예측(predict) 하기 위해 신경망 사용\n",
    "\n",
    "number_of_toes = [8.5, 9.5, 10 ,9]\n",
    "input=number_of_toes[0]\n",
    "\n",
    "pred=neural_network(input, weight)\n",
    "print(pred)"
   ]
  },
  {
   "cell_type": "code",
   "execution_count": 4,
   "metadata": {},
   "outputs": [
    {
     "name": "stdout",
     "output_type": "stream",
     "text": [
      "0.9800000000000001\n"
     ]
    }
   ],
   "source": [
    "# 복수 데이터 요소 입력\n",
    "# 복수 입력을 받는 신경망\n",
    "weight= [0.1, 0.2, 0]git \n",
    "\n",
    "def neural_network(input, weight):\n",
    "    prediction= w_sum(input, weight)\n",
    "    return prediction\n",
    "\n",
    "# 복수 입력에 대해 Weighted Sum 구하기\n",
    "def w_sum(a,b):\n",
    "    assert(len(a) == len(b))\n",
    "    output=0\n",
    "    \n",
    "    for i in range(len(a)):\n",
    "        output+= (a[i]*b[i])\n",
    "    \n",
    "    return output\n",
    "\n",
    "# 입력 데이터 요소 집어넣기\n",
    "toe=[8.5, 9.5, 10 ,9] # 발가락 개수\n",
    "wlrec=[0.65, 0.8, 0.8, 0.9] # 이긴 게임 수 (퍼센트)\n",
    "nfans=[1.2, 1.3, 0.5, 1.0] # 관중 수 (milions)\n",
    "\n",
    "input=[toe[0], wlrec[0], nfans[0]] # 시즌 첫 경기 data\n",
    "\n",
    "pred=neural_network(input, weight)\n",
    "\n",
    "print(pred)"
   ]
  },
  {
   "cell_type": "code",
   "execution_count": 1,
   "metadata": {},
   "outputs": [
    {
     "name": "stdout",
     "output_type": "stream",
     "text": [
      "<class 'numpy.float64'>\n",
      "0.9800000000000001\n"
     ]
    }
   ],
   "source": [
    "# 복수 입력 \n",
    "# numpy를 활용한 코드(dot)\n",
    "import numpy as np\n",
    "\n",
    "weights=np.array([0.1,0.2,0])\n",
    "\n",
    "toes=np.array([8.5,9.5,9.9,9.0])\n",
    "wlrec=np.array([0.65,0.8,0.8,0.9])\n",
    "nfans=np.array([1.2,1.3,0.5,1.0])\n",
    "\n",
    "input=np.array([toes[0],wlrec[0],nfans[0]])\n",
    "\n",
    "def neural_network(input,weights):\n",
    "    pred=input.dot(weights)\n",
    "    print(type(pred))\n",
    "    return pred\n",
    "\n",
    "pred=neural_network(input,weights)\n",
    "print(pred)"
   ]
  },
  {
   "cell_type": "code",
   "execution_count": null,
   "metadata": {},
   "outputs": [],
   "source": []
  }
 ],
 "metadata": {
  "kernelspec": {
   "display_name": "Python 3",
   "language": "python",
   "name": "python3"
  },
  "language_info": {
   "codemirror_mode": {
    "name": "ipython",
    "version": 3
   },
   "file_extension": ".py",
   "mimetype": "text/x-python",
   "name": "python",
   "nbconvert_exporter": "python",
   "pygments_lexer": "ipython3",
   "version": "3.7.6"
  }
 },
 "nbformat": 4,
 "nbformat_minor": 4
}
